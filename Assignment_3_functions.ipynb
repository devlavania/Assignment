{
  "nbformat": 4,
  "nbformat_minor": 0,
  "metadata": {
    "colab": {
      "provenance": []
    },
    "kernelspec": {
      "name": "python3",
      "display_name": "Python 3"
    },
    "language_info": {
      "name": "python"
    }
  },
  "cells": [
    {
      "cell_type": "markdown",
      "source": [
        "Theory Questions"
      ],
      "metadata": {
        "id": "PVA2S95jcZB5"
      }
    },
    {
      "cell_type": "markdown",
      "source": [
        "1. What is the difference between a function and a method in Python?  \n",
        "Ans- A function is a block of reusable code defined using the `def` keyword and can be called independently. A **method** is a function that is associated with an object and is called using dot notation (e.g., `list.append()`).\n",
        "\n",
        "2. Explain the concept of function arguments and parameters in Python.\n",
        "\n",
        "Ans- Parameters are variables listed in a function’s definition.  \n",
        "- Arguments are the actual values passed to the function when it is called.  \n",
        "Example:  \n",
        "\n",
        "def greet(name):  # 'name' is a parameter\n",
        "    print(\"Hello\", name)\n",
        "\n",
        "greet(\"DEEPAK\")  # \"DEEPAK\" is an argument\n",
        "\n",
        "3. What are the different ways to define and call a function in Python?\n",
        "\n",
        "Ans- Using `def` keyword for named functions  \n",
        "- Using `lambda` for anonymous functions  \n",
        "- Calling with or without arguments  \n",
        "- Using default, keyword, or variable-length arguments (`*args`, `**kwargs`)\n",
        "\n",
        "4. What is the purpose of the `return` statement in a Python function?\n",
        "\n",
        "Ans - The `return` statement sends a result back to the caller and ends the functions execution. It allows the function to output a value for further use.\n",
        "\n",
        "\n",
        "5. What are iterators in Python and how do they differ from iterables?\n",
        "\n",
        "Ans - Iterable: An object that can be looped over (e.g., list, tuple).  \n",
        "- Iterator: An object with a `__next__()` method that returns items one at a time.  \n",
        "You get an iterator from an iterable using `iter()`.\n",
        "\n",
        "\n",
        "6. Explain the concept of generators in Python and how they are defined.\n",
        "\n",
        "Ans - Generators are special functions that yield values one at a time using the `yield` keyword. They are defined like regular functions but use `yield` instead of `return`.\n",
        "\n",
        "Example:  \n",
        "def count_up_to(n):\n",
        "    i = 1\n",
        "    while i <= n:\n",
        "        yield i\n",
        "        i += 1\n",
        "\n",
        "7. What are the advantages of using generators over regular functions?\n",
        "\n",
        "Ans - Memory-efficient: No need to store entire sequence in memory  \n",
        "- Lazy evaluation: Values are produced only when needed  \n",
        "- Pause-resume capability: Execution can be paused and resumed\n",
        "\n",
        "\n",
        "\n",
        "8. What is a lambda function in Python and when is it typically used?  \n",
        "\n",
        "Ans - A lambda function is an anonymous, one-line function defined using the `lambda` keyword.  \n",
        "Used for short, throwaway functions—especially with `map()`, `filter()`, and `reduce()`.\n",
        "\n",
        "Example:  \n",
        "square = lambda x: x * x\n",
        "print(square(5))  # Output: 25\n",
        "\n",
        "\n",
        "9. Explain the purpose and usage of the `map()` function in Python.\n",
        "\n",
        "Ans - `map()` applies a given function to each item of an iterable and returns a map object.  \n",
        "Example:  \n",
        "nums = [1, 2, 3]\n",
        "doubled = list(map(lambda x: x * 2, nums)) ,\n",
        " Output: [2, 4, 6]\n",
        "\n",
        "10. What is the difference between map(), reduce(), and filter() functions in Python?\n",
        "\n",
        "\n",
        "Ans - map(): Transforms each item in an iterable using a function.  \n",
        "  Example: Doubling numbers → `[1, 2, 3]` → `[2, 4, 6]`\n",
        "\n",
        "- filter(): Selects items that meet a condition.  \n",
        "  Example: Keep numbers > 2 → `[1, 2, 3]` → `[3]`\n",
        "\n",
        "- reduce(): Combines all items into a single result using a function.  \n",
        "  Example: Sum of list → `[1, 2, 3]` → `6`\n",
        "---\n",
        "\n",
        "11. Using pen & paper write the internal mechanism for sum operation using reduce function on this given list: [47, 11, 42, 13]\n",
        "\n",
        "Ans. https://docs.google.com/document/d/1yNqS5Exzx84MenEsj3ruMyjKjIyRy24rKocXdx4kjEA/edit?addon_store&tab=t.0"
      ],
      "metadata": {
        "id": "0U3gtDrbcaRE"
      }
    },
    {
      "cell_type": "markdown",
      "source": [
        "Practical Questions"
      ],
      "metadata": {
        "id": "Au7C9qrvcVA3"
      }
    },
    {
      "cell_type": "code",
      "execution_count": 20,
      "metadata": {
        "id": "byj9yzKRd33W",
        "outputId": "ff7dafd3-eb6b-4c4c-efce-6cec05310107",
        "colab": {
          "base_uri": "https://localhost:8080/"
        }
      },
      "outputs": [
        {
          "output_type": "execute_result",
          "data": {
            "text/plain": [
              "12"
            ]
          },
          "metadata": {},
          "execution_count": 20
        }
      ],
      "source": [
        "\n",
        " #Q1. Write a Python function that takes a list of numbers as input and returns the sum of all even numbers in\n",
        " #       the list\n",
        "\n",
        " def sum_of_even_no(a):\n",
        "\n",
        "    sum=0\n",
        "    for i in a:\n",
        "        if i%2==0:\n",
        "            sum +=i\n",
        "\n",
        "    return sum\n",
        "\n",
        "\n",
        "sum_of_even_no([2,3,4,5,6])"
      ]
    },
    {
      "cell_type": "code",
      "source": [
        "#Q2. Create a Python function that accepts a string and returns the reverse of that string.\n",
        "\n",
        "def reverse_string(a):\n",
        "\n",
        "  return a[::-1]\n",
        "\n",
        "reverse_string(\"deepak\")\n"
      ],
      "metadata": {
        "colab": {
          "base_uri": "https://localhost:8080/",
          "height": 35
        },
        "id": "A07fANMP14xt",
        "outputId": "5a4760c6-5eec-4cbe-a382-3e2c39605dc7"
      },
      "execution_count": null,
      "outputs": [
        {
          "output_type": "execute_result",
          "data": {
            "text/plain": [
              "'kapeed'"
            ],
            "application/vnd.google.colaboratory.intrinsic+json": {
              "type": "string"
            }
          },
          "metadata": {},
          "execution_count": 13
        }
      ]
    },
    {
      "cell_type": "code",
      "source": [
        "#Q3. Implement a Python function that takes a list of integers and returns a new list containing the squares of\n",
        "#    each number.\n",
        "\n",
        "def square_no(a):\n",
        "\n",
        "  l=[]\n",
        "  for i in a:\n",
        "    l.append(i**2)\n",
        "\n",
        "\n",
        "  return l\n",
        "\n",
        "\n",
        "square_no([1,2,3,4,5])"
      ],
      "metadata": {
        "colab": {
          "base_uri": "https://localhost:8080/"
        },
        "id": "eH7DJu2A3TXg",
        "outputId": "68d74816-3605-4877-e419-f3359e2ab0d0"
      },
      "execution_count": null,
      "outputs": [
        {
          "output_type": "execute_result",
          "data": {
            "text/plain": [
              "[1, 4, 9, 16, 25]"
            ]
          },
          "metadata": {},
          "execution_count": 21
        }
      ]
    },
    {
      "cell_type": "code",
      "metadata": {
        "colab": {
          "base_uri": "https://localhost:8080/"
        },
        "id": "7f1c8278",
        "outputId": "baa6a405-ab70-42eb-d58c-5fcd3ed5668b"
      },
      "source": [
        "# Q4. Write a Python function that checks if a given number is prime or not from 1 to 200.\n",
        "\n",
        "def is_prime(n):\n",
        "\n",
        "  if n <= 1:\n",
        "    return False\n",
        "  for i in range(2, int(n**0.5) + 1):\n",
        "    if n % i == 0:\n",
        "      return False\n",
        "  return True\n",
        "\n",
        "prime_numbers = [n for n in range(1, 201) if is_prime(n)]\n",
        "print(f\"Prime numbers from 1 to 200: {prime_numbers}\")"
      ],
      "execution_count": null,
      "outputs": [
        {
          "output_type": "stream",
          "name": "stdout",
          "text": [
            "Prime numbers from 1 to 200: [2, 3, 5, 7, 11, 13, 17, 19, 23, 29, 31, 37, 41, 43, 47, 53, 59, 61, 67, 71, 73, 79, 83, 89, 97, 101, 103, 107, 109, 113, 127, 131, 137, 139, 149, 151, 157, 163, 167, 173, 179, 181, 191, 193, 197, 199]\n"
          ]
        }
      ]
    },
    {
      "cell_type": "code",
      "source": [
        "#Q5. Create an iterator class in Python that generates the Fibonacci sequence up to a specified number of terms.\n",
        "\n",
        "class FibonacciIterator:\n",
        "    def __init__(self, n):\n",
        "        self.n = n\n",
        "        self.a, self.b = 0, 1\n",
        "        self.count = 0\n",
        "\n",
        "\n",
        "f=FibonacciIterator(10)\n",
        "for i in f:\n",
        "    print(i)\n",
        "\n",
        "\n",
        "\n",
        "\n",
        "\n",
        "\n"
      ],
      "metadata": {
        "colab": {
          "base_uri": "https://localhost:8080/"
        },
        "id": "69AgMF7qSTHN",
        "outputId": "e4ba4b97-36ac-4a5b-84ae-3377df0e85c6"
      },
      "execution_count": 5,
      "outputs": [
        {
          "output_type": "stream",
          "name": "stdout",
          "text": [
            "0\n",
            "1\n",
            "1\n",
            "2\n",
            "3\n",
            "5\n",
            "8\n",
            "13\n",
            "21\n",
            "34\n"
          ]
        }
      ]
    },
    {
      "cell_type": "code",
      "source": [
        " #Q6. Write a generator function in Python that yields the powers of 2 up to a given exponent.\n",
        "\n",
        "def power_of_two(n):\n",
        "    power = 1\n",
        "    for _ in range(n):\n",
        "        yield power\n",
        "        power *= 2\n",
        "\n",
        "gen= power_of_two(3)\n",
        "for power in gen:\n",
        "    print(power)"
      ],
      "metadata": {
        "colab": {
          "base_uri": "https://localhost:8080/"
        },
        "id": "ZEzo0sl5ULo6",
        "outputId": "1071de3a-993a-4997-faa2-2d742c3567bf"
      },
      "execution_count": 10,
      "outputs": [
        {
          "output_type": "stream",
          "name": "stdout",
          "text": [
            "1\n",
            "2\n",
            "4\n"
          ]
        }
      ]
    },
    {
      "cell_type": "code",
      "source": [
        "#Q 7. Implement a generator function that reads a file line by line and yields each line as a string.\n",
        "\n",
        "def read_file_lines(file_path):\n",
        "    with open(file_path, 'r') as file:\n",
        "        for line in file:\n",
        "            yield line\n"
      ],
      "metadata": {
        "id": "aJ2Z3mP-VfzW"
      },
      "execution_count": 11,
      "outputs": []
    },
    {
      "cell_type": "code",
      "source": [
        "#Q 8. Use a lambda function in Python to sort a list of tuples based on the second element of each tuple.\n",
        "\n",
        "data = [('apple', 3), ('banana', 1), ('cherry', 2)]\n",
        "sorted_data = sorted(data, key=lambda x: x[1])\n",
        "print(sorted_data)\n"
      ],
      "metadata": {
        "colab": {
          "base_uri": "https://localhost:8080/"
        },
        "id": "LLqW6XxwWOTe",
        "outputId": "bb6e85bd-3796-4c16-f7b9-bd5d0bb9e979"
      },
      "execution_count": 12,
      "outputs": [
        {
          "output_type": "stream",
          "name": "stdout",
          "text": [
            "[('banana', 1), ('cherry', 2), ('apple', 3)]\n"
          ]
        }
      ]
    },
    {
      "cell_type": "code",
      "source": [
        " #9. Write a Python program that uses `map()` to convert a list of temperatures from Celsius to Fahrenheit.\n",
        "\n",
        "celsius_temps = [0, 10, 20, 30, 40]\n",
        "\n",
        "celsius_to_fahrenheit = lambda c: (c * 9/5) + 32\n",
        "\n",
        "fahrenheit_temps = list(map(celsius_to_fahrenheit, celsius_temps))\n",
        "\n",
        "print(f\"Celsius temperatures: {celsius_temps}\")\n",
        "print(f\"Fahrenheit temperatures: {fahrenheit_temps}\")"
      ],
      "metadata": {
        "colab": {
          "base_uri": "https://localhost:8080/"
        },
        "id": "gl_o6v71XGdw",
        "outputId": "14632482-0362-4b18-fa99-16f02605913d"
      },
      "execution_count": 14,
      "outputs": [
        {
          "output_type": "stream",
          "name": "stdout",
          "text": [
            "Celsius temperatures: [0, 10, 20, 30, 40]\n",
            "Fahrenheit temperatures: [32.0, 50.0, 68.0, 86.0, 104.0]\n"
          ]
        }
      ]
    },
    {
      "cell_type": "code",
      "source": [
        "#Q 10. Create a Python program that uses `filter()` to remove all the vowels from a given string.\n",
        "\n",
        "def remove_vowels(text):\n",
        "    vowels = \"aeiouAEIOU\"\n",
        "    return \"\".join(filter(lambda x: x not in vowels, text))\n",
        "\n",
        "# Example usage:\n",
        "input_string = \"Hello World\"\n",
        "string_without_vowels = remove_vowels(input_string)\n",
        "print(f\"Original string: {input_string}\")\n",
        "print(f\"String without vowels: {string_without_vowels}\")"
      ],
      "metadata": {
        "colab": {
          "base_uri": "https://localhost:8080/"
        },
        "id": "anek3Mb1ZA3c",
        "outputId": "7695114d-3ccc-4391-c1be-79c952f83a3b"
      },
      "execution_count": 15,
      "outputs": [
        {
          "output_type": "stream",
          "name": "stdout",
          "text": [
            "Original string: Hello World\n",
            "String without vowels: Hll Wrld\n"
          ]
        }
      ]
    },
    {
      "cell_type": "code",
      "source": [
        "#Q 11) Imagine an accounting routine used in a book shop. It works on a list with sublists,  Write a Python program, which returns a list with 2-tuples. Each tuple consists of the order number and the\n",
        "#product of the price per item and the quantity. The product should be increased by 10,- € if the value of the order is smaller than 100,00 €.  Write a Python program using lambda and map.\n",
        "\n",
        "\n",
        "\n",
        "\n",
        "orders = [\n",
        "    [34587, \"Learning Python, Mark Lutz\", 4, 40.95],\n",
        "    [98762, \"Programming Python, Mark Lutz\", 5, 56.80],\n",
        "    [77226, \"Head First Python, Paul Barry\", 3, 32.95],\n",
        "    [88112, \"Einführung in Python 3, Bernd Klein\", 3, 24.99]\n",
        "]\n",
        "\n",
        "# Lambda function inside map to calculate total and apply surcharge if needed\n",
        "result = list(map(lambda order: (\n",
        "    order[0],\n",
        "    round(order[2] * order[3] + (10 if order[2] * order[3] < 100 else 0), 2)\n",
        "), orders))\n",
        "\n",
        "print(result)\n"
      ],
      "metadata": {
        "colab": {
          "base_uri": "https://localhost:8080/"
        },
        "id": "mE8ew8vUZxuk",
        "outputId": "0d869e11-8dcb-4c8e-f95b-9dd5b2d5ab9d"
      },
      "execution_count": 17,
      "outputs": [
        {
          "output_type": "stream",
          "name": "stdout",
          "text": [
            "[(34587, 163.8), (98762, 284.0), (77226, 108.85), (88112, 84.97)]\n"
          ]
        }
      ]
    }
  ]
}