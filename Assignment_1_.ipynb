{
  "nbformat": 4,
  "nbformat_minor": 0,
  "metadata": {
    "colab": {
      "provenance": []
    },
    "kernelspec": {
      "name": "python3",
      "display_name": "Python 3"
    },
    "language_info": {
      "name": "python"
    }
  },
  "cells": [
    {
      "cell_type": "markdown",
      "source": [
        "Q1. What is Python, and why is it popular?\n",
        "\n",
        "Ans.- Python is a high-level, interpreted programming language known for its readability and ease of use. It's popular for several reasons:\n",
        "1. Simplicity\n",
        "2. Versatility\n",
        "3. Platform Independence\n",
        "4. Strong Corporate Support\n",
        "\n",
        "Q2. What is an interpreter in Python?\n",
        "\n",
        "Ans. - interpreter in Python is a program that directly executes code line by line, without compiling it into machine code first.\n",
        "\n",
        "Q3. What are pre-defined keywords in Python?\n",
        "\n",
        "Ans.- Pre-defined keywords in Python are special words that have specific meanings and purposes within the language. They are reserved and cannot be used as variable names, function names.\n",
        "\n",
        "Q4. - Can keywords be used as variable names?\n",
        "\n",
        "Ans. No, Keywords can not used as variable names.\n",
        "\n",
        "Q.5 What is mutability in Python?\n",
        "\n",
        "Ans.- Mutability in Python refers to whether the state of an object can be changed after it is created.\n",
        "Mutable objects can be modified after creation. Examples include lists, dictionaries, and sets. You can add, remove, or change elements within these objects.\n",
        "\n",
        "Q.6 - Why are lists mutable, but tuples are immutable?\n",
        "\n",
        "Ans. - Lists are mutable because they’re designed for dynamic, changeable data, stored in a resizable memory structure.\n",
        "Tuples are immutable to provide fixed, unchangeable data, which improves safety, performance, and allows them to be used as dictionary keys.\n",
        "\n",
        "Q7. What is the difference between “==” and “is” operators in Python?\n",
        "\n",
        "Ans.- \"==\" checks value equality whether two objects have the same content.\n",
        "\"is\" checks identity whether two references point to the same object in memory.\n",
        "\n",
        "Q8. What are logical operators in Python?\n",
        "\n",
        "Ans. - Logical operators in Python are used to combine or invert Boolean expressions:\n",
        "\n",
        "and → Returns True if both conditions are True.\n",
        "\n",
        "or → Returns True if at least one condition is True.\n",
        "\n",
        "not → Reverses the Boolean value.\n",
        "\n",
        "Q9.- What is type casting in Python ?\n",
        "\n",
        "Ans. Type casting in Python is the process of converting a value from one data type to another.\n",
        "\n",
        "Q10. What is the difference between implicit and explicit type casting?\n",
        "\n",
        "Ans. - Implicit casting is done automatically by Python during operations between compatible types, while explicit casting is done manually by the programmer using functions like int, float, or str.\n",
        "\n",
        "Q.11. What is the purpose of conditional statements in Python?\n",
        "\n",
        "Ans. - The purpose of conditional statements in Python is to control the flow of a program by executing certain blocks of code only if specific conditions are true.\n",
        "\n",
        "Q.12 - The elif statement in Python lets you check multiple conditions in sequence.\n",
        "\n",
        "Ans.- If the first if condition is False, Python checks the elif condition, and executes its block if True.\n",
        "Once a condition is met, the rest are skipped\n",
        "\n",
        "Q13. What is the difference between for and while loops?\n",
        "\n",
        "Ans.- A for loop is used when you know the number of iterations or are looping over a sequence, while a while loop is used when you loop until a condition becomes false.\n",
        "\n",
        "Q.14- Describe a scenario where a while loop is more suitable than a for loop.\n",
        "\n",
        "Ans.- A while loop is more suitable when you don’t know in advance how many times the loop should run — for example, reading user input until they type \"exit\"\n",
        "\n",
        "\n",
        "\n",
        "\n",
        "\n",
        "\n"
      ],
      "metadata": {
        "id": "ElzfYPaOQVFV"
      }
    },
    {
      "cell_type": "markdown",
      "source": [
        "**Practical Questions**"
      ],
      "metadata": {
        "id": "OQKBnvbZT1_H"
      }
    },
    {
      "cell_type": "code",
      "source": [
        "#1  Write a Python program to print \"Hello, World!\"\n",
        "\n",
        "print(\"Hello, World!\")"
      ],
      "metadata": {
        "id": "Ofa_zdFKT1eQ"
      },
      "execution_count": null,
      "outputs": []
    },
    {
      "cell_type": "code",
      "source": [
        "#2  Write a Python program that displays your name and age\n",
        "Name= \"Deepak\"\n",
        "Age=25\n",
        "print(f\"My name is {Name} and age is {Age}\")"
      ],
      "metadata": {
        "id": "au2PW9BjUHfJ"
      },
      "execution_count": null,
      "outputs": []
    },
    {
      "cell_type": "code",
      "source": [
        "#3 Write code to print all the pre-defined keywords in Python using the keyword library8\n",
        "\n",
        "import keyword\n",
        "\n",
        "print(\"List of Python keywords:\")\n",
        "print(keyword.kwlist)\n"
      ],
      "metadata": {
        "id": "dnwYGLNpUJoB"
      },
      "execution_count": null,
      "outputs": []
    },
    {
      "cell_type": "code",
      "source": [
        "#4 Write a program that checks if a given word is a Python keyword.\n",
        "\n",
        "\n",
        "import keyword\n",
        "\n",
        "word = \"False\"\n",
        "\n",
        "if keyword.iskeyword(word):\n",
        "    print(f\"'{word}' is a Python keyword.\")\n",
        "else:\n",
        "    print(f\"'{word}' is NOT a Python keyword.\")\n"
      ],
      "metadata": {
        "id": "ObULT7EOUMCW"
      },
      "execution_count": null,
      "outputs": []
    },
    {
      "cell_type": "code",
      "source": [
        "# 5. Create a list and tuple in Python, and demonstrate how attempting to change an element works differently  for each\n",
        "\n",
        "my_list = [10, 20, 30]\n",
        "my_tuple = (10, 20, 30)\n",
        "\n",
        "print(\"Original list:\", my_list)\n",
        "print(\"Original tuple:\", my_tuple)\n",
        "\n",
        "# Changing element in a list (works fine)\n",
        "my_list[1] = 200\n",
        "print(\"\\nAfter changing list[1]:\", my_list)\n",
        "\n",
        "# Changing element in a tuple (will raise an error)\n",
        "try:\n",
        "    my_tuple[1] = 200\n",
        "except TypeError as e:\n",
        "    print(\"\\nError when changing tuple[1]:\", e)\n"
      ],
      "metadata": {
        "id": "W-0_7-UbUQC7"
      },
      "execution_count": null,
      "outputs": []
    },
    {
      "cell_type": "code",
      "source": [
        "#6. Write a function to demonstrate the behavior of mutable and immutable arguments.\n",
        "\n",
        "# Function to modify values\n",
        "def modify_values(num, my_list):\n",
        "    # Immutable type (int) - change will not affect the original\n",
        "    num += 10\n",
        "\n",
        "    # Mutable type (list) - change will affect the original\n",
        "    my_list.append(100)\n",
        "\n",
        "    print(\"\\nInside function:\")\n",
        "    print(\"num =\", num)\n",
        "    print(\"my_list =\", my_list)\n",
        "\n",
        "\n",
        "# Main program\n",
        "x = 5            # Immutable (int)\n",
        "y = [1, 2, 3]    # Mutable (list)\n",
        "\n",
        "print(\"Before function call:\")\n",
        "print(\"x =\", x)\n",
        "print(\"y =\", y)\n",
        "\n",
        "# Call function\n",
        "modify_values(x, y)\n",
        "\n",
        "print(\"\\nAfter function call:\")\n",
        "print(\"x =\", x)  # unchanged\n",
        "print(\"y =\", y)  # changed\n"
      ],
      "metadata": {
        "id": "aTSM5MeGUS7p"
      },
      "execution_count": null,
      "outputs": []
    },
    {
      "cell_type": "code",
      "source": [
        "#7. Write a program that performs basic arithmetic operations on two user-input numbers.\n",
        "n1=int(input())\n",
        "n2=int(input())\n",
        "\n",
        "add=n1+n2\n",
        "subtract=n1-n2\n",
        "multiply=n1*n2\n",
        "\n",
        "if n2 !=0:\n",
        "    Division=n1/n2\n",
        "else:\n",
        "    Division=\"undefined(division by zero)\"\n",
        "\n",
        "print(add, subtract, multiply, Division )\n",
        "\n",
        "\n",
        "\n",
        "\n"
      ],
      "metadata": {
        "id": "nDp-nIcnUWuM"
      },
      "execution_count": null,
      "outputs": []
    },
    {
      "cell_type": "code",
      "source": [
        "#8. Write a program to demonstrate the use of logical operators.\n",
        "\n",
        "n1=int(input())\n",
        "n2=int(input())\n",
        "\n",
        "Result1= n1>0 and n2>0\n",
        "Result2=n1>0 or n2>0\n",
        "Result3= not(n1>0)\n",
        "\n",
        "print(Result1, Result2, Result3)"
      ],
      "metadata": {
        "id": "ulhypOqwUZ7E"
      },
      "execution_count": null,
      "outputs": []
    },
    {
      "cell_type": "code",
      "source": [
        "#9. Write a Python program to convert user input from string to integer, float, and boolean types.\n",
        "\n",
        "a=input()\n",
        "I=int(a)\n",
        "F=float(a)\n",
        "B=bool(a)\n",
        "\n",
        "print(f\"Integer {I}, Float {F}, Boolean {B}\")"
      ],
      "metadata": {
        "id": "JRsOzADdUdRw"
      },
      "execution_count": null,
      "outputs": []
    },
    {
      "cell_type": "code",
      "source": [
        "#10. Write code to demonstrate type casting with list elements.\n",
        "\n",
        "List=[\"10\",\"20\",\"30\"]\n",
        "\n",
        "int_list=[int(x)for x in List if x.isdigit()]\n",
        "print(\"converted integer list\",int_list)"
      ],
      "metadata": {
        "id": "9-L3gkAdUglL"
      },
      "execution_count": null,
      "outputs": []
    },
    {
      "cell_type": "code",
      "source": [
        "#11. Write a program that checks if a number is positive, negative, or zero.\n",
        "\n",
        "n=int(input())\n",
        "\n",
        "if n>0:\n",
        "    print(\"Positive number\", n)\n",
        "elif n<0:\n",
        "    print(\"Negative number\", n)\n",
        "else:\n",
        "    print(\"number is Zero\", n)"
      ],
      "metadata": {
        "id": "4_JIPaMgUjOg"
      },
      "execution_count": null,
      "outputs": []
    },
    {
      "cell_type": "code",
      "source": [
        "#12. Write a for loop to print numbers from 1 to 10.\n",
        "\n",
        "for i in range(1,11):\n",
        "    print(i)"
      ],
      "metadata": {
        "id": "vorw8uUEUmM1"
      },
      "execution_count": null,
      "outputs": []
    },
    {
      "cell_type": "code",
      "source": [
        "#13. Write a Python program to find the sum of all even numbers between 1 and 50.\n",
        "sum=0\n",
        "for i in range(1,51):\n",
        "    if i%2==0:\n",
        "     sum=sum+i\n",
        "\n",
        "print(sum)\n"
      ],
      "metadata": {
        "id": "1GMha4vKUoK6"
      },
      "execution_count": null,
      "outputs": []
    },
    {
      "cell_type": "code",
      "source": [
        "#14. Write a program to reverse a string using a while loop.\n",
        "\n",
        "Name=\"Deepak\"\n",
        "\n",
        "index=len(Name)-1\n",
        "\n",
        "reverse_name=\"\"\n",
        "\n",
        "while index>=0:\n",
        "    reverse_name=reverse_name+Name[index]\n",
        "    index=index-1\n",
        "\n",
        "print(\"reversed string : \", reverse_name)"
      ],
      "metadata": {
        "id": "riz45aqAUqLf"
      },
      "execution_count": null,
      "outputs": []
    },
    {
      "cell_type": "code",
      "source": [
        "#15. Write a Python program to calculate the factorial of a number provided by the user using a while loop.\n",
        "\n",
        "n=5\n",
        "\n",
        "factorial=1\n",
        "i=1\n",
        "\n",
        "while i<=n:\n",
        "    factorial = factorial*i\n",
        "    i=i+1\n",
        "\n",
        "print(factorial)"
      ],
      "metadata": {
        "id": "eH99vIdZUtW4"
      },
      "execution_count": null,
      "outputs": []
    }
  ]
}